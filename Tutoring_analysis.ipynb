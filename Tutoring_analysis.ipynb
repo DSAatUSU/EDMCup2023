{
 "cells": [
  {
   "attachments": {},
   "cell_type": "markdown",
   "id": "c42fadee",
   "metadata": {},
   "source": [
    "# Import Libraries"
   ]
  },
  {
   "cell_type": "code",
   "execution_count": 1,
   "id": "3252ff97-19b6-4833-b119-bdb5b36a545b",
   "metadata": {
    "ExecuteTime": {
     "end_time": "2023-04-15T17:47:10.725895Z",
     "start_time": "2023-04-15T17:47:10.463976Z"
    }
   },
   "outputs": [],
   "source": [
    "import pandas as pd\n",
    "import numpy as np\n",
    "from scipy import stats"
   ]
  },
  {
   "attachments": {},
   "cell_type": "markdown",
   "id": "28155d89",
   "metadata": {},
   "source": [
    "# Load data"
   ]
  },
  {
   "cell_type": "code",
   "execution_count": 3,
   "id": "cb30ed5d",
   "metadata": {},
   "outputs": [],
   "source": [
    "df_assignment_rel=pd.read_csv('./data/assignment_relationships.csv')\n",
    "df_training=pd.read_csv('./data/unit_test_scores.csv')\n",
    "df_problem=pd.read_csv('./data/problem_details.csv')\n",
    "df_actionlogs=pd.read_csv('./data/action_logs.csv')\n",
    "df_problem=pd.read_csv('./data/problem_details.csv')"
   ]
  },
  {
   "attachments": {},
   "cell_type": "markdown",
   "id": "7160e9d3",
   "metadata": {},
   "source": [
    "# Preprocess data (make data ready for analysis)"
   ]
  },
  {
   "cell_type": "code",
   "execution_count": 4,
   "id": "d714d333",
   "metadata": {},
   "outputs": [],
   "source": [
    "df_training=df_training.merge(df_assignment_rel,left_on='assignment_log_id',right_on='unit_test_assignment_log_id',how='left')\n",
    "df_training=df_training[['unit_test_assignment_log_id','problem_id', 'score', 'in_unit_assignment_log_id']]\n",
    "df_actionlogs=df_actionlogs[['assignment_log_id','problem_id','available_core_tutoring','action']]\n",
    "\n",
    "one_hot = pd.get_dummies(df_actionlogs[['action','available_core_tutoring']])\n",
    "\n",
    "# Concatenate the original DataFrame with the one-hot encoded DataFrame\n",
    "df_actionlogs = pd.concat([df_actionlogs, one_hot], axis=1)\n",
    "df_actionlogs=df_actionlogs.rename(columns={'problem_id':'problem_id_action'})"
   ]
  },
  {
   "cell_type": "code",
   "execution_count": 5,
   "id": "a10f20b8",
   "metadata": {},
   "outputs": [],
   "source": [
    "# Get all unique problems where skill_video or live_tutor available\n",
    "problem_skill_video_available = df_actionlogs.loc[df_actionlogs['action_skill_related_video_requested'] == 1, 'problem_id_action']\n",
    "problem_live_tutor_available = df_actionlogs.loc[df_actionlogs['action_live_tutor_requested'] == 1, 'problem_id_action']\n",
    "\n",
    "problem_skill_video_available=problem_skill_video_available.to_list()\n",
    "problem_live_tutor_available=problem_live_tutor_available.to_list()\n",
    "problem_skill_video_available=list(set(problem_skill_video_available))\n",
    "problem_live_tutor_available=list(set(problem_live_tutor_available))"
   ]
  },
  {
   "cell_type": "code",
   "execution_count": 6,
   "id": "98023fa3",
   "metadata": {},
   "outputs": [],
   "source": [
    "df_training_hint=df_training.merge(df_actionlogs,left_on='in_unit_assignment_log_id',right_on='assignment_log_id',how='left')\n",
    "# Create a new column with initial values as 0\n",
    "df_training_hint['skill_related_video_available'] = 0\n",
    "# Set values to 1 where the where problem is skill_video problem.\n",
    "df_training_hint.loc[(df_training_hint['action'] == 'problem_started') & (df_training_hint['problem_id_action'].isin(problem_skill_video_available)), 'skill_related_video_available'] = 1\n",
    "\n",
    "df_training_hint['live_tutor_available'] = 0\n",
    "# Set values to 1 where the condition is satisfied\n",
    "df_training_hint.loc[(df_training_hint['action'] == 'problem_started') & (df_training_hint['problem_id_action'].isin(problem_skill_video_available)), 'live_tutor_available'] = 1"
   ]
  },
  {
   "attachments": {},
   "cell_type": "markdown",
   "id": "b04ccfac",
   "metadata": {},
   "source": [
    "# Tutoring analysis"
   ]
  },
  {
   "cell_type": "code",
   "execution_count": 7,
   "id": "ea53b00f",
   "metadata": {},
   "outputs": [],
   "source": [
    "# group data for each 'unit_test_assignment_log_id','problem_id'\n",
    "df_training_hint_group=df_training_hint.groupby(['unit_test_assignment_log_id','problem_id'],as_index=False).agg({'problem_id_action':'nunique','available_core_tutoring_hint':'sum',\n",
    "                                                                                                                  'action_answer_requested':'sum','action_correct_response':'sum','action_hint_requested':'sum',\n",
    "                                                                                                                  'action_explanation_requested':'sum','action_live_tutor_requested':'sum',\n",
    "                                                                                                                  'action_skill_related_video_requested':'sum','available_core_tutoring_answer':'sum',\n",
    "                                                                                                                  'available_core_tutoring_explanation':'sum','available_core_tutoring_hint':'sum',\n",
    "                                                                                                                  'action_correct_response':'sum','action_wrong_response':'sum',\n",
    "                                                                                                                  'skill_related_video_available':'sum','live_tutor_available':'sum',\n",
    "                                                                                                                  'score':'first'})"
   ]
  },
  {
   "cell_type": "code",
   "execution_count": 8,
   "id": "b953576c",
   "metadata": {},
   "outputs": [],
   "source": [
    "# calculate all tutoring type percentage requested and avilable\n",
    "df_training_hint_group['per_hint_available']=df_training_hint_group['available_core_tutoring_hint']/df_training_hint_group['problem_id_action']\n",
    "df_training_hint_group['per_explanation_available']=df_training_hint_group['available_core_tutoring_explanation']/df_training_hint_group['problem_id_action']\n",
    "df_training_hint_group['per_answer_available']=df_training_hint_group['available_core_tutoring_answer']/df_training_hint_group['problem_id_action']\n",
    "df_training_hint_group['per_skill_video_available']=df_training_hint_group['skill_related_video_available']/df_training_hint_group['problem_id_action']\n",
    "df_training_hint_group['per_live_tutor_available']=df_training_hint_group['live_tutor_available']/df_training_hint_group['problem_id_action']\n",
    "df_training_hint_group.loc[df_training_hint_group['per_hint_available']>1,'per_hint_available'] = 1\n",
    "df_training_hint_group.loc[df_training_hint_group['per_explanation_available']>1,'per_explanation_available'] = 1\n",
    "df_training_hint_group.loc[df_training_hint_group['per_answer_available']>1,'per_answer_available'] = 1\n",
    "df_training_hint_group['per_hint_requested']=df_training_hint_group['action_hint_requested']/df_training_hint_group['available_core_tutoring_hint']\n",
    "df_training_hint_group['per_explanation_requested']=df_training_hint_group['action_explanation_requested']/df_training_hint_group['available_core_tutoring_explanation']\n",
    "df_training_hint_group['per_answer_requested']=df_training_hint_group['action_answer_requested']/df_training_hint_group['available_core_tutoring_answer']\n",
    "df_training_hint_group['per_skill_video_requested']=df_training_hint_group['action_skill_related_video_requested']/df_training_hint_group['skill_related_video_available']\n",
    "df_training_hint_group['per_live_tutor_requested']=df_training_hint_group['action_live_tutor_requested']/df_training_hint_group['live_tutor_available']\n",
    "df_training_hint_group.loc[df_training_hint_group['per_hint_requested']>1,'per_hint_requested'] = 1\n",
    "df_training_hint_group.loc[df_training_hint_group['per_explanation_requested']>1,'per_explanation_requested'] = 1\n",
    "df_training_hint_group.loc[df_training_hint_group['per_answer_requested']>1,'per_answer_requested'] = 1\n",
    "df_training_hint_group['total_available_toutoring']=df_training_hint_group['available_core_tutoring_hint']+df_training_hint_group['available_core_tutoring_explanation']+df_training_hint_group['available_core_tutoring_answer']+df_training_hint_group['action_skill_related_video_requested']+df_training_hint_group['action_live_tutor_requested']"
   ]
  },
  {
   "cell_type": "code",
   "execution_count": 9,
   "id": "c27cc5a4",
   "metadata": {},
   "outputs": [],
   "source": [
    "df_training_hint_group['per_total_avai_tutoring']=df_training_hint_group['total_available_toutoring']/df_training_hint_group['problem_id_action']\n",
    "df_training_hint_group['total_toutoring_requested']=df_training_hint_group['action_answer_requested']+df_training_hint_group['action_hint_requested']+df_training_hint_group['action_explanation_requested']+df_training_hint_group['action_skill_related_video_requested']+df_training_hint_group['action_live_tutor_requested']\n",
    "df_training_hint_group['per_total_req_tutoring']=df_training_hint_group['total_toutoring_requested']/df_training_hint_group['problem_id_action']\n",
    "\n",
    "df_training_hint_group.loc[df_training_hint_group['per_total_avai_tutoring']>1,'per_total_avai_tutoring'] = 1\n",
    "df_training_hint_group.loc[df_training_hint_group['total_toutoring_requested']>1,'total_toutoring_requested'] = 1\n",
    "df_training_hint_group['per_correct_response']=df_training_hint_group['action_correct_response']/df_training_hint_group['problem_id_action']\n",
    "df_training_hint_group['per_wrong_response']=df_training_hint_group['action_wrong_response']/df_training_hint_group['problem_id_action']\n",
    "df_training_hint_group.loc[df_training_hint_group['per_wrong_response']>1,'per_wrong_response'] = 1\n",
    "df_training_hint_group.loc[df_training_hint_group['per_correct_response']>1,'per_correct_response'] = 1"
   ]
  },
  {
   "attachments": {},
   "cell_type": "markdown",
   "id": "8420642f",
   "metadata": {},
   "source": [
    "# For grades separately"
   ]
  },
  {
   "cell_type": "code",
   "execution_count": 10,
   "id": "5328db2f",
   "metadata": {},
   "outputs": [],
   "source": [
    "# get skill code for all problems.\n",
    "df_training_hint_group=df_training_hint_group.merge(df_problem[['problem_id','problem_skill_code']],on='problem_id',how='left')\n",
    "df_training_hint_group=df_training_hint_group.rename(columns={'problem_id_action':'number_of_problems'})\n",
    "df_training_hint_group['grade_train'] = df_training_hint_group['problem_skill_code'].str.split('.', n=1).str[0]"
   ]
  },
  {
   "cell_type": "code",
   "execution_count": 11,
   "id": "942ae9bc",
   "metadata": {},
   "outputs": [],
   "source": [
    "upper_limit=0.7\n",
    "lower_limit=0.3"
   ]
  },
  {
   "cell_type": "code",
   "execution_count": 12,
   "id": "c29332f5",
   "metadata": {},
   "outputs": [],
   "source": [
    "# function to create dataframe of >=upper_limit and <lower limit with t-statistic and p-value\n",
    "#input: upper_limit, lower_limit\n",
    "#output: dict of dfs each for each tutoring type.\n",
    "\n",
    "def calculate_metric_dfs(upper_limit, lower_limit):\n",
    "    metrics = ['hint_requested', 'explanation_requested', 'answer_requested', 'total_req_tutoring', 'skill_video_requested', 'live_tutor_requested', 'correct_response', 'wrong_response']\n",
    "\n",
    "    dfs = {}  # Dictionary to store the separate DataFrames\n",
    "\n",
    "    for metric in metrics:\n",
    "        df_metric = pd.DataFrame()  # Create an empty DataFrame for the metric\n",
    "        for limit in [upper_limit, lower_limit]:\n",
    "            if limit == upper_limit:\n",
    "                limit_label = f'>={limit}'\n",
    "                group = df_training_hint_group[df_training_hint_group[f'per_{metric}'] >= limit].groupby('grade_train')['score'].mean()\n",
    "                total = df_training_hint_group[df_training_hint_group[f'per_{metric}'] >= limit]['score'].mean()\n",
    "            else:\n",
    "                limit_label = f'<{limit}'\n",
    "                group = df_training_hint_group[df_training_hint_group[f'per_{metric}'] < limit].groupby('grade_train')['score'].mean()\n",
    "                total = df_training_hint_group[df_training_hint_group[f'per_{metric}'] < limit]['score'].mean()\n",
    "            group['Total'] = total\n",
    "            column_name = f'{metric}({limit_label})'\n",
    "            df_metric[column_name] = group\n",
    "\n",
    "        # Perform statistical tests for each grade\n",
    "        t_stats = []\n",
    "        p_values = []\n",
    "        for grade in df_metric.index:\n",
    "            if grade == 'Total':\n",
    "                # Perform statistical test for the total\n",
    "                control_scores = df_training_hint_group[(df_training_hint_group[f'per_{metric}'] < lower_limit)]['score']\n",
    "                treatment_scores = df_training_hint_group[(df_training_hint_group[f'per_{metric}'] >= upper_limit)]['score']\n",
    "                t_stat, p_value = stats.ttest_ind(treatment_scores, control_scores)\n",
    "                t_stats.append(t_stat)\n",
    "                p_values.append(p_value)\n",
    "            else:\n",
    "                control_scores = df_training_hint_group[(df_training_hint_group[f'per_{metric}'] < lower_limit) & (df_training_hint_group['grade_train'] == grade)]['score']\n",
    "                treatment_scores = df_training_hint_group[(df_training_hint_group[f'per_{metric}'] >= upper_limit) & (df_training_hint_group['grade_train'] == grade)]['score']\n",
    "                t_stat, p_value = stats.ttest_ind(treatment_scores, control_scores)\n",
    "                t_stats.append(t_stat)\n",
    "                p_values.append(p_value)\n",
    "                \n",
    "        # Calculate score difference\n",
    "        df_metric['score_difference'] = df_metric.iloc[:, 1] - df_metric.iloc[:, 0]\n",
    "        df_metric[f'{metric}_t_statistic'] = t_stats\n",
    "        df_metric[f'{metric}_p_value'] = p_values\n",
    "\n",
    "        df_metric.rename_axis('Grade', inplace=True)\n",
    "\n",
    "        dfs[metric] = df_metric  # Add the metric DataFrame to the dictionary\n",
    "\n",
    "    return dfs\n"
   ]
  },
  {
   "cell_type": "code",
   "execution_count": 13,
   "id": "870c3694",
   "metadata": {},
   "outputs": [
    {
     "name": "stderr",
     "output_type": "stream",
     "text": [
      "/usr/local/lib/python3.8/dist-packages/numpy/core/fromnumeric.py:3715: RuntimeWarning: Degrees of freedom <= 0 for slice\n",
      "  return _methods._var(a, axis=axis, dtype=dtype, out=out, ddof=ddof,\n",
      "/usr/local/lib/python3.8/dist-packages/numpy/core/_methods.py:257: RuntimeWarning: invalid value encountered in double_scalars\n",
      "  ret = ret.dtype.type(ret / rcount)\n"
     ]
    }
   ],
   "source": [
    "\n",
    "dfs_70_30 = calculate_metric_dfs(upper_limit, lower_limit)"
   ]
  },
  {
   "cell_type": "code",
   "execution_count": null,
   "id": "587978ce",
   "metadata": {},
   "outputs": [],
   "source": []
  }
 ],
 "metadata": {
  "kernelspec": {
   "display_name": "Python 3 (ipykernel)",
   "language": "python",
   "name": "python3"
  },
  "language_info": {
   "codemirror_mode": {
    "name": "ipython",
    "version": 3
   },
   "file_extension": ".py",
   "mimetype": "text/x-python",
   "name": "python",
   "nbconvert_exporter": "python",
   "pygments_lexer": "ipython3",
   "version": "3.8.10"
  }
 },
 "nbformat": 4,
 "nbformat_minor": 5
}
